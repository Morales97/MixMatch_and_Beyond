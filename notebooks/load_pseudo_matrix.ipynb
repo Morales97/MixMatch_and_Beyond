{
 "cells": [
  {
   "cell_type": "code",
   "execution_count": 1,
   "id": "fe98c088",
   "metadata": {},
   "outputs": [
    {
     "name": "stdout",
     "output_type": "stream",
     "text": [
      "/Users/dani/Google Drive/Uni/Master/P4 2021/DD2424 - Deep Learning for Data Science/Project/ScarceClassifier/src\n"
     ]
    }
   ],
   "source": [
    "cd ../src"
   ]
  },
  {
   "cell_type": "code",
   "execution_count": 2,
   "id": "6e1f5d72",
   "metadata": {},
   "outputs": [],
   "source": [
    "from d07_visualization.viz_training import plot_acc, plot_training_loss, plot_losses\n",
    "from d04_mixmatch.wideresnet import WideResNet\n",
    "from d02_data.load_data import get_dataloaders_ssl\n",
    "from d07_visualization.visualize_cifar10 import show_img\n",
    "from d02_data.load_data_idxs import get_dataloaders_with_index\n",
    "import torch\n",
    "import torch.nn as nn\n",
    "import numpy as np\n",
    "import matplotlib.pyplot as plt"
   ]
  },
  {
   "cell_type": "code",
   "execution_count": 3,
   "id": "dba1c039",
   "metadata": {},
   "outputs": [
    {
     "name": "stdout",
     "output_type": "stream",
     "text": [
      "Files already downloaded and verified\n",
      "Files already downloaded and verified\n"
     ]
    }
   ],
   "source": [
    "train_loader, unlbl_loader, val_loader, test_loader, _, _, _ = get_dataloaders_ssl(path='../data', batch_size=64, num_labeled=45000, which_dataset='cifar10')"
   ]
  },
  {
   "cell_type": "code",
   "execution_count": 32,
   "id": "118211e4",
   "metadata": {},
   "outputs": [],
   "source": [
    "file_name = 'pseudo_matrix_balanced165000_all.pt'\n",
    "#file_name = 'pseudo_matrix_90000.pt'\n",
    "matrix_original = torch.load(f'../models/pseudo_250/{file_name}', map_location=torch.device('cpu')) "
   ]
  },
  {
   "cell_type": "code",
   "execution_count": 33,
   "id": "1fcb9b42",
   "metadata": {},
   "outputs": [
    {
     "data": {
      "text/plain": [
       "torch.Size([44750, 5])"
      ]
     },
     "execution_count": 33,
     "metadata": {},
     "output_type": "execute_result"
    }
   ],
   "source": [
    "matrix_original.shape"
   ]
  },
  {
   "cell_type": "code",
   "execution_count": 34,
   "id": "faba269a",
   "metadata": {},
   "outputs": [
    {
     "data": {
      "text/plain": [
       "tensor([358.0000,   0.7735,   2.0000,   2.0000,   1.0000])"
      ]
     },
     "execution_count": 34,
     "metadata": {},
     "output_type": "execute_result"
    }
   ],
   "source": [
    "# matrix columns: [index, confidence, pseudo_label, true_label, is_ground_truth]\n",
    "matrix_original[0,:]\n"
   ]
  },
  {
   "cell_type": "code",
   "execution_count": 40,
   "id": "5e10a55c",
   "metadata": {},
   "outputs": [
    {
     "name": "stdout",
     "output_type": "stream",
     "text": [
      "Minimum confidence: 0.99\n",
      "Correct: 205.00\n",
      "Incorrect: 23.00\n",
      "Pseudo-label accuracy: 89.91\n"
     ]
    }
   ],
   "source": [
    "# Select a threshold\n",
    "tau = 0.99\n",
    "matrix = matrix_original[matrix_original[:,1] >= tau, :]\n",
    "minimum_confidence = torch.min(matrix[:,1]).item()\n",
    "\n",
    "pseudo_labels = matrix[:,2].numpy()\n",
    "correct_labels = matrix[matrix[:,4] == 1, 2].numpy()\n",
    "incorrect_labels = matrix[matrix[:,4] == 0, 2].numpy()\n",
    "distr_labels = []\n",
    "distr_correct_labels = []\n",
    "distr_incorrect_labels = []\n",
    "for i in range(10):\n",
    "    distr_labels.append(np.sum(pseudo_labels == i))\n",
    "    distr_correct_labels.append(np.sum(correct_labels == i))\n",
    "    distr_incorrect_labels.append(np.sum(incorrect_labels == i))\n",
    "\n",
    "correct = np.sum(distr_correct_labels)\n",
    "incorrect = np.sum(distr_incorrect_labels)\n",
    "print('Minimum confidence: %.2f' % (minimum_confidence))\n",
    "print('Correct: %.2f' % (correct))\n",
    "print('Incorrect: %.2f' % (incorrect))\n",
    "print('Pseudo-label accuracy: %.2f' % (correct / (incorrect + correct)*100))\n"
   ]
  },
  {
   "cell_type": "code",
   "execution_count": 41,
   "id": "a586120c",
   "metadata": {},
   "outputs": [
    {
     "data": {
      "text/plain": [
       "tensor(0.1902)"
      ]
     },
     "execution_count": 41,
     "metadata": {},
     "output_type": "execute_result"
    }
   ],
   "source": [
    "torch.quantile(matrix_original[:,1], 0)"
   ]
  },
  {
   "cell_type": "code",
   "execution_count": 42,
   "id": "f64929fa",
   "metadata": {},
   "outputs": [
    {
     "data": {
      "image/png": "[encoded data removed]",
      "text/plain": [
       "<Figure size 432x288 with 1 Axes>"
      ]
     },
     "metadata": {
      "needs_background": "light"
     },
     "output_type": "display_data"
    }
   ],
   "source": [
    "fig, ax = plt.subplots()\n",
    "\n",
    "ax.bar(range(10), distr_correct_labels, label='Correct')\n",
    "ax.bar(range(10), distr_incorrect_labels, bottom=distr_correct_labels, label='Incorrect')\n",
    "\n",
    "ax.set_ylabel('Number of labels')\n",
    "ax.set_title('Pseudo labels per class')\n",
    "ax.legend()\n",
    "\n",
    "plt.show()"
   ]
  },
  {
   "cell_type": "code",
   "execution_count": 43,
   "id": "34a5cfd3",
   "metadata": {},
   "outputs": [
    {
     "name": "stdout",
     "output_type": "stream",
     "text": [
      "tensor([10454., 10814., 15444.])\n",
      "tensor([3., 3., 3.])\n"
     ]
    }
   ],
   "source": [
    "print(matrix[matrix[:,2] == 3, 0])\n",
    "print(matrix[matrix[:,2] == 3, 3])"
   ]
  },
  {
   "cell_type": "code",
   "execution_count": 39,
   "id": "f3141ed8",
   "metadata": {},
   "outputs": [
    {
     "data": {
      "text/plain": [
       "<matplotlib.image.AxesImage at 0x7fb93cc96d50>"
      ]
     },
     "execution_count": 39,
     "metadata": {},
     "output_type": "execute_result"
    },
    {
     "data": {
      "image/png": "[encoded data removed]",
      "text/plain": [
       "<Figure size 432x288 with 1 Axes>"
      ]
     },
     "metadata": {
      "needs_background": "light"
     },
     "output_type": "display_data"
    }
   ],
   "source": [
    "plt.imshow(train_loader.dataset.data[18011])"
   ]
  },
  {
   "cell_type": "code",
   "execution_count": null,
   "id": "caf60006",
   "metadata": {},
   "outputs": [],
   "source": []
  },
  {
   "cell_type": "code",
   "execution_count": 28,
   "id": "2501e18f",
   "metadata": {},
   "outputs": [
    {
     "name": "stdout",
     "output_type": "stream",
     "text": [
      "Minimum confidence: 0.99\n"
     ]
    }
   ],
   "source": [
    "tau = 0\n",
    "matrix = matrix_original[matrix_original[:,1] >= tau, :]\n",
    "minimum_confidence = torch.min(matrix[:,1]).item()\n",
    "\n",
    "matrix = matrix.numpy()\n",
    "pseudo_labels = matrix[:,2]\n",
    "correct_matrix = matrix[matrix[:,4] == 1, :]\n",
    "incorrect_matrix = matrix[matrix[:,4] == 0, :]\n",
    "\n",
    "print('Minimum confidence: %.2f' % (minimum_confidence))"
   ]
  },
  {
   "cell_type": "code",
   "execution_count": 29,
   "id": "bfb547d2",
   "metadata": {},
   "outputs": [
    {
     "data": {
      "image/png": "[encoded data removed]",
      "text/plain": [
       "<Figure size 432x288 with 1 Axes>"
      ]
     },
     "metadata": {
      "needs_background": "light"
     },
     "output_type": "display_data"
    }
   ],
   "source": [
    "plt.hist(matrix[:,1], bins=20, density=True);"
   ]
  },
  {
   "cell_type": "markdown",
   "id": "710abcda",
   "metadata": {},
   "source": [
    "Confidence on the guessed label does have a correlation with correctness. But not too strong to be used for pseudo labelling"
   ]
  },
  {
   "cell_type": "code",
   "execution_count": 30,
   "id": "b54c9299",
   "metadata": {},
   "outputs": [
    {
     "data": {
      "image/png": "[encoded data removed]",
      "text/plain": [
       "<Figure size 432x288 with 1 Axes>"
      ]
     },
     "metadata": {
      "needs_background": "light"
     },
     "output_type": "display_data"
    }
   ],
   "source": [
    "plt.hist(correct_matrix[:,1], bins=20, density=True);"
   ]
  },
  {
   "cell_type": "code",
   "execution_count": 31,
   "id": "be692f4f",
   "metadata": {},
   "outputs": [
    {
     "data": {
      "image/png": "[encoded data removed]",
      "text/plain": [
       "<Figure size 432x288 with 1 Axes>"
      ]
     },
     "metadata": {
      "needs_background": "light"
     },
     "output_type": "display_data"
    }
   ],
   "source": [
    "plt.hist(incorrect_matrix[:,1], bins=20, density=True);"
   ]
  },
  {
   "cell_type": "code",
   "execution_count": null,
   "id": "6dceccbe",
   "metadata": {},
   "outputs": [],
   "source": []
  }
 ],
 "metadata": {
  "kernelspec": {
   "display_name": "Python 3",
   "language": "python",
   "name": "python3"
  },
  "language_info": {
   "codemirror_mode": {
    "name": "ipython",
    "version": 3
   },
   "file_extension": ".py",
   "mimetype": "text/x-python",
   "name": "python",
   "nbconvert_exporter": "python",
   "pygments_lexer": "ipython3",
   "version": "3.7.10"
  }
 },
 "nbformat": 4,
 "nbformat_minor": 5
}
