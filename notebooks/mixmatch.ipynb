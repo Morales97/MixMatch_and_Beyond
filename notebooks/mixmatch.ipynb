{
 "cells": [
  {
   "cell_type": "code",
   "execution_count": 2,
   "metadata": {},
   "outputs": [
    {
     "name": "stdout",
     "output_type": "stream",
     "text": [
      "/Users/dani/Google Drive/Uni/Master/P4 2021/DD2424 - Deep Learning for Data Science/Project/ScarceClassifier\n"
     ]
    }
   ],
   "source": [
    "cd .."
   ]
  },
  {
   "cell_type": "code",
   "execution_count": 3,
   "metadata": {},
   "outputs": [],
   "source": [
    "from src.d04_mixmatch.wideresnet import WideResNet\n",
    "from src.d02_data.load_data import get_dataloaders_validation\n",
    "from src.d03_processing.transform_data import AddGaussianNoise\n",
    "from src.d07_visualization.visualize_cifar10 import show_img\n",
    "import torch\n",
    "import torch.nn as nn\n",
    "import torch.optim as optim\n",
    "import torchvision.transforms as transforms\n",
    "import numpy as np\n",
    "import time"
   ]
  },
  {
   "cell_type": "code",
   "execution_count": 6,
   "metadata": {},
   "outputs": [
    {
     "name": "stdout",
     "output_type": "stream",
     "text": [
      "cpu\n"
     ]
    }
   ],
   "source": [
    "device = torch.device(\"cuda:0\" if torch.cuda.is_available() else \"cpu\")\n",
    "\n",
    "# Assuming that we are on a CUDA machine, this should print a CUDA device:\n",
    "\n",
    "print(device)"
   ]
  },
  {
   "cell_type": "code",
   "execution_count": 7,
   "metadata": {},
   "outputs": [
    {
     "name": "stdout",
     "output_type": "stream",
     "text": [
      "Files already downloaded and verified\n",
      "Files already downloaded and verified\n",
      "Files already downloaded and verified\n"
     ]
    },
    {
     "name": "stderr",
     "output_type": "stream",
     "text": [
      "Clipping input data to the valid range for imshow with RGB data ([0..1] for floats or [0..255] for integers).\n"
     ]
    },
    {
     "data": {
      "image/png": "[encoded data removed]",
      "text/plain": [
       "<Figure size 432x288 with 1 Axes>"
      ]
     },
     "metadata": {
      "needs_background": "light"
     },
     "output_type": "display_data"
    }
   ],
   "source": [
    "# Get data\n",
    "train_loader, val_loader, test_loader = get_dataloaders_validation(path='data', \n",
    "                                                                   batch_size=64, train_size=1000, val_size=0)\n",
    "show_img(iter(train_loader).next()[0][0])"
   ]
  },
  {
   "cell_type": "code",
   "execution_count": 8,
   "metadata": {},
   "outputs": [],
   "source": [
    "# Init model\n",
    "model = WideResNet(depth=28, k=2, n_out=10)\n"
   ]
  },
  {
   "cell_type": "code",
   "execution_count": 9,
   "metadata": {},
   "outputs": [],
   "source": [
    "class Augment:\n",
    "    def __init__(self, K=2):\n",
    "        self.K = K\n",
    "        self.transform = transforms.Compose([transforms.RandomHorizontalFlip(),\n",
    "                                            transforms.RandomAffine(degrees = 0, translate = (0.1, 0.1)),\n",
    "                                            AddGaussianNoise(mean=0, std=0.15)])\n",
    "\n",
    "    def __call__(self, batch):\n",
    "        augmented_batch = torch.zeros((self.K, *batch.shape))\n",
    "        for k in range(self.K):\n",
    "            augmented_batch[k] = self.transform(batch)\n",
    "        return augmented_batch"
   ]
  },
  {
   "cell_type": "code",
   "execution_count": 18,
   "metadata": {},
   "outputs": [],
   "source": [
    "class MixMatch(object):\n",
    "\n",
    "    def __init__(self, model, batch_size, T=0.5, K=2, alpha=0.75):\n",
    "        self.T = T\n",
    "        self.K = K\n",
    "        self.batch_size = batch_size\n",
    "        self.alpha = alpha\n",
    "        self.softmax = nn.Softmax(dim=1)\n",
    "        self.model = model\n",
    "        self.n_labels = 10 # Warning! hardcoded\n",
    "        self.beta = torch.distributions.beta.Beta(alpha, alpha)\n",
    "\n",
    "    def run(self, x_imgs, x_labels, u_imgs):\n",
    "        # One hot encoding\n",
    "        x_labels = self.one_hot_encoding(x_labels)\n",
    "\n",
    "        # Augment\n",
    "        augment_once = Augment(K=1)\n",
    "        augment_k = Augment(K=self.K)\n",
    "        \n",
    "        x_hat = augment_once(x_imgs) # shape (1, batch_size, 3, 32, 32)\n",
    "        u_hat = augment_k(u_imgs)    # shape (K, batch_size, 3, 32, 32)\n",
    "        \n",
    "        # Generate guessed labels\n",
    "        start_t =time.time()\n",
    "        q_bar = self.guess_label(u_hat)\n",
    "        print('guessing labels time: ', str(time.time() - start_t))\n",
    "        q = self.sharpen(q_bar)      # shape (K, batch_size, 10)\n",
    "\n",
    "        x_hat = x_hat.reshape((-1, 3, 32, 32))      # shape (batch_size, 3, 32, 32)\n",
    "        u_hat = u_hat.reshape((-1, 3, 32, 32))      # shape (K*batch_size, 3, 32, 32)\n",
    "        q = q.repeat(self.K,1,1).reshape(-1, 10)    # shape (K*batch_size, 10)\n",
    "        \n",
    "        # Concat and shuffle\n",
    "        w_imgs = torch.cat((x_hat, u_hat))\n",
    "        w_labels = torch.cat((x_labels, q))\n",
    "        w_imgs, w_labels = self.shuffle_matrices(w_imgs, w_labels)\n",
    "        \n",
    "        # Apply MixUp\n",
    "        x_prime, p_prime = self.mixup(x_hat, w_imgs[:self.batch_size], x_labels, w_labels[:self.batch_size])\n",
    "        u_prime, q_prime = self.mixup(u_hat, w_imgs[self.batch_size:], q, w_labels[self.batch_size:])\n",
    "        \n",
    "        return (x_prime, p_prime), (u_prime, q_prime), q_bar\n",
    "    \n",
    "    def mixup(self, x1, x2, p1, p2):\n",
    "        n_samples = x1.shape[0]\n",
    "        lambda_rand = self.beta.sample([n_samples, 1, 1, 1]) # one lambda per sample\n",
    "        lambda_prime = torch.max(lambda_rand, 1-lambda_rand)\n",
    "        x_prime = lambda_prime*x1 + (1-lambda_prime)*x2\n",
    "        lambda_prime = lambda_prime.reshape(-1, 1)\n",
    "        p_prime = lambda_prime*p1 + (1-lambda_prime)*p2\n",
    "        return x_prime, p_prime\n",
    "    \n",
    "    def sharpen(self, q_bar):\n",
    "        q_bar = q_bar.numpy()\n",
    "        q = np.power(q_bar, 1/self.T) / np.sum(np.power(q_bar, 1/self.T), axis=1)[:, np.newaxis]\n",
    "        return torch.from_numpy(q)\n",
    "    \n",
    "    def guess_label(self, u_hat):        \n",
    "        self.model.eval()\n",
    "        with torch.no_grad():\n",
    "            q_bar = torch.zeros([self.batch_size, self.n_labels])\n",
    "            for k in range(self.K):\n",
    "                q_bar += self.softmax(self.model(u_hat[k]))\n",
    "            q_bar /= self.K\n",
    "            \n",
    "        self.model.train()\n",
    "        return q_bar\n",
    "\n",
    "    def one_hot_encoding(self, labels):\n",
    "        shape = (labels.shape[0], self.n_labels)\n",
    "        one_hot = np.zeros(shape)\n",
    "        rows = np.arange(labels.shape[0])\n",
    "        one_hot[rows, labels] = 1\n",
    "        return torch.from_numpy(one_hot)\n",
    "    \n",
    "    # shuffles along the first axis (axis 0)\n",
    "    def shuffle_matrices(self, m1, m2):\n",
    "        n_samples = m1.shape[0]\n",
    "        rand_indexes = torch.randperm(n_samples)\n",
    "        m1 = m1[rand_indexes]\n",
    "        m2 = m2[rand_indexes]\n",
    "        return m1, m2\n",
    "    "
   ]
  },
  {
   "cell_type": "code",
   "execution_count": 19,
   "metadata": {},
   "outputs": [
    {
     "name": "stdout",
     "output_type": "stream",
     "text": [
      "guessing labels time:  1.346841812133789\n",
      "Total time: 1.3662\n"
     ]
    }
   ],
   "source": [
    "x_imgs, x_labels = iter(train_loader).next()\n",
    "u_imgs, _ = iter(train_loader).next()\n",
    "\n",
    "mixmatch = MixMatch(model, 64)\n",
    "\n",
    "start = time.time()\n",
    "x, u, q_bar = mixmatch.run(x_imgs, x_labels, u_imgs)\n",
    "print('Total time: %.4f' % (time.time() - start))\n"
   ]
  },
  {
   "cell_type": "code",
   "execution_count": 20,
   "metadata": {},
   "outputs": [
    {
     "data": {
      "text/plain": [
       "torch.Size([64, 10])"
      ]
     },
     "execution_count": 20,
     "metadata": {},
     "output_type": "execute_result"
    }
   ],
   "source": [
    "q_bar.shape\n"
   ]
  },
  {
   "cell_type": "code",
   "execution_count": 26,
   "metadata": {},
   "outputs": [
    {
     "data": {
      "text/plain": [
       "(64, 10)"
      ]
     },
     "execution_count": 26,
     "metadata": {},
     "output_type": "execute_result"
    }
   ],
   "source": [
    "q_bar = q_bar\n",
    "q = np.power(q_bar, 20) / np.sum(np.power(q_bar, 20), axis=1)[:, np.newaxis]\n",
    "q.shape"
   ]
  },
  {
   "cell_type": "code",
   "execution_count": 33,
   "metadata": {},
   "outputs": [
    {
     "ename": "SyntaxError",
     "evalue": "invalid syntax (<ipython-input-33-cd13b8c71c23>, line 2)",
     "output_type": "error",
     "traceback": [
      "\u001b[0;36m  File \u001b[0;32m\"<ipython-input-33-cd13b8c71c23>\"\u001b[0;36m, line \u001b[0;32m2\u001b[0m\n\u001b[0;31m    q2 = torch.pow(q_bar2, 20) ./ torch.sum(torch.pow(q_bar2, 20), axis=1)\u001b[0m\n\u001b[0m                                ^\u001b[0m\n\u001b[0;31mSyntaxError\u001b[0m\u001b[0;31m:\u001b[0m invalid syntax\n"
     ]
    }
   ],
   "source": [
    "q_bar2 = torch.from_numpy(q_bar)\n",
    "q2 = torch.pow(q_bar2, 20) / torch.sum(torch.pow(q_bar2, 20), axis=1)\n"
   ]
  },
  {
   "cell_type": "code",
   "execution_count": 27,
   "metadata": {},
   "outputs": [
    {
     "data": {
      "text/plain": [
       "array([0.09465005, 0.09740005, 0.10383528, 0.0919687 , 0.11023071,\n",
       "       0.10261852, 0.09999707, 0.09494686, 0.10510992, 0.09924283],\n",
       "      dtype=float32)"
      ]
     },
     "execution_count": 27,
     "metadata": {},
     "output_type": "execute_result"
    }
   ],
   "source": [
    "q_bar[0]"
   ]
  },
  {
   "cell_type": "code",
   "execution_count": 28,
   "metadata": {},
   "outputs": [
    {
     "data": {
      "text/plain": [
       "array([0.01976347, 0.03504527, 0.12599266, 0.01112364, 0.41638824,\n",
       "       0.09953151, 0.05931873, 0.02104061, 0.16081248, 0.0509834 ],\n",
       "      dtype=float32)"
      ]
     },
     "execution_count": 28,
     "metadata": {},
     "output_type": "execute_result"
    }
   ],
   "source": [
    "q[0]"
   ]
  },
  {
   "cell_type": "code",
   "execution_count": 31,
   "metadata": {},
   "outputs": [
    {
     "data": {
      "text/plain": [
       "tensor([0.0198, 0.0350, 0.1260, 0.0111, 0.4164, 0.0995, 0.0593, 0.0210, 0.1608,\n",
       "        0.0510])"
      ]
     },
     "execution_count": 31,
     "metadata": {},
     "output_type": "execute_result"
    }
   ],
   "source": [
    "q2[0]"
   ]
  },
  {
   "cell_type": "code",
   "execution_count": 428,
   "metadata": {},
   "outputs": [],
   "source": [
    "x_imgs, x_labels = iter(train_loader).next()\n"
   ]
  },
  {
   "cell_type": "code",
   "execution_count": 433,
   "metadata": {},
   "outputs": [
    {
     "name": "stderr",
     "output_type": "stream",
     "text": [
      "Clipping input data to the valid range for imshow with RGB data ([0..1] for floats or [0..255] for integers).\n"
     ]
    },
    {
     "data": {
      "image/png": "[encoded data removed]",
      "text/plain": [
       "<Figure size 432x288 with 1 Axes>"
      ]
     },
     "metadata": {
      "needs_background": "light"
     },
     "output_type": "display_data"
    },
    {
     "name": "stdout",
     "output_type": "stream",
     "text": [
      "tensor(0)\n"
     ]
    },
    {
     "data": {
      "image/png": "[encoded data removed]",
      "text/plain": [
       "<Figure size 432x288 with 1 Axes>"
      ]
     },
     "metadata": {
      "needs_background": "light"
     },
     "output_type": "display_data"
    },
    {
     "name": "stdout",
     "output_type": "stream",
     "text": [
      "tensor(2)\n"
     ]
    },
    {
     "data": {
      "image/png": "[encoded data removed]",
      "text/plain": [
       "<Figure size 432x288 with 1 Axes>"
      ]
     },
     "metadata": {
      "needs_background": "light"
     },
     "output_type": "display_data"
    },
    {
     "data": {
      "image/png": "[encoded data removed]",
      "text/plain": [
       "<Figure size 432x288 with 1 Axes>"
      ]
     },
     "metadata": {
      "needs_background": "light"
     },
     "output_type": "display_data"
    },
    {
     "data": {
      "image/png": "[encoded data removed]",
      "text/plain": [
       "<Figure size 432x288 with 1 Axes>"
      ]
     },
     "metadata": {
      "needs_background": "light"
     },
     "output_type": "display_data"
    },
    {
     "name": "stdout",
     "output_type": "stream",
     "text": [
      "tensor([1., 0., 0., 0., 0., 0., 0., 0., 0., 0.], dtype=torch.float64)\n"
     ]
    }
   ],
   "source": [
    "x_imgs, x_labels = iter(train_loader).next()\n",
    "u_imgs, _ = iter(train_loader).next()\n",
    "\n",
    "show_img(x_imgs[0])\n",
    "print(x_labels[0])\n",
    "show_img(x_imgs[1])\n",
    "print(x_labels[1])\n",
    "show_img(u_imgs[0])\n",
    "show_img(u_imgs[1])\n",
    "\n",
    "mixmatch = MixMatch(model, 64, K=3)\n",
    "x, u = mixmatch.run(x_imgs, x_labels, u_imgs)\n",
    "\n",
    "x_prime = x[0]\n",
    "p_prime = x[1]\n",
    "u_prime = u[0]\n",
    "q_prime = u[1]\n",
    "\n",
    "show_img(x_prime[0])\n",
    "print(p_prime[0])\n",
    "\n",
    "\n"
   ]
  },
  {
   "cell_type": "code",
   "execution_count": 406,
   "metadata": {},
   "outputs": [
    {
     "data": {
      "text/plain": [
       "tensor([[[[0.0425, 0.6498, 0.0406, 0.0309, 0.0415, 0.0485, 0.0368, 0.0341,\n",
       "           0.0336, 0.0417],\n",
       "          [0.0421, 0.0439, 0.6465, 0.0308, 0.0415, 0.0489, 0.0369, 0.0338,\n",
       "           0.0336, 0.0420]]],\n",
       "\n",
       "\n",
       "        [[[0.0101, 0.9166, 0.0097, 0.0074, 0.0099, 0.0116, 0.0088, 0.0081,\n",
       "           0.0080, 0.0099],\n",
       "          [0.0100, 0.0105, 0.9159, 0.0073, 0.0099, 0.0116, 0.0088, 0.0081,\n",
       "           0.0080, 0.0100]]]], dtype=torch.float64)"
      ]
     },
     "execution_count": 406,
     "metadata": {},
     "output_type": "execute_result"
    }
   ],
   "source": [
    "p_prime"
   ]
  },
  {
   "cell_type": "code",
   "execution_count": 125,
   "metadata": {},
   "outputs": [
    {
     "data": {
      "text/plain": [
       "False"
      ]
     },
     "execution_count": 125,
     "metadata": {},
     "output_type": "execute_result"
    }
   ],
   "source": [
    "u_hat.requires_grad\n"
   ]
  },
  {
   "cell_type": "code",
   "execution_count": null,
   "metadata": {},
   "outputs": [],
   "source": []
  }
 ],
 "metadata": {
  "kernelspec": {
   "display_name": "Python 3",
   "language": "python",
   "name": "python3"
  },
  "language_info": {
   "codemirror_mode": {
    "name": "ipython",
    "version": 3
   },
   "file_extension": ".py",
   "mimetype": "text/x-python",
   "name": "python",
   "nbconvert_exporter": "python",
   "pygments_lexer": "ipython3",
   "version": "3.7.10"
  }
 },
 "nbformat": 4,
 "nbformat_minor": 4
}
