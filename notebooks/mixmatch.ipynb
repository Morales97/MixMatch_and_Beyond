{
 "cells": [
  {
   "cell_type": "code",
   "execution_count": 4,
   "metadata": {},
   "outputs": [
    {
     "name": "stdout",
     "output_type": "stream",
     "text": [
      "/Users/dani/Google Drive/Uni/Master/P4 2021/DD2424 - Deep Learning for Data Science/Project/ScarceClassifier\n"
     ]
    }
   ],
   "source": [
    "cd .."
   ]
  },
  {
   "cell_type": "code",
   "execution_count": 168,
   "metadata": {},
   "outputs": [],
   "source": [
    "from src.d04_mixmatch.wideresnet import WideResNet\n",
    "from src.d02_data.load_data import get_dataloaders_validation\n",
    "from src.d03_processing.transform_data import AddGaussianNoise\n",
    "from src.d07_visualization.visualize_cifar10 import show_img\n",
    "import torch\n",
    "import torch.nn as nn\n",
    "import torch.optim as optim\n",
    "import torchvision.transforms as transforms\n",
    "import numpy as np\n",
    "import time"
   ]
  },
  {
   "cell_type": "code",
   "execution_count": 6,
   "metadata": {},
   "outputs": [
    {
     "name": "stdout",
     "output_type": "stream",
     "text": [
      "cpu\n"
     ]
    }
   ],
   "source": [
    "device = torch.device(\"cuda:0\" if torch.cuda.is_available() else \"cpu\")\n",
    "\n",
    "# Assuming that we are on a CUDA machine, this should print a CUDA device:\n",
    "\n",
    "print(device)"
   ]
  },
  {
   "cell_type": "code",
   "execution_count": 236,
   "metadata": {},
   "outputs": [
    {
     "name": "stdout",
     "output_type": "stream",
     "text": [
      "Files already downloaded and verified\n",
      "Files already downloaded and verified\n",
      "Files already downloaded and verified\n"
     ]
    },
    {
     "data": {
      "image/png": "[encoded data removed]",
      "text/plain": [
       "<Figure size 432x288 with 1 Axes>"
      ]
     },
     "metadata": {
      "needs_background": "light"
     },
     "output_type": "display_data"
    }
   ],
   "source": [
    "# Get data\n",
    "train_loader, val_loader, test_loader = get_dataloaders_validation(path='data', \n",
    "                                                                   batch_size=4, train_size=1000, val_size=0)\n",
    "show_img(iter(train_loader).next()[0][0])"
   ]
  },
  {
   "cell_type": "code",
   "execution_count": 237,
   "metadata": {},
   "outputs": [],
   "source": [
    "# Init model\n",
    "model = WideResNet(depth=28, k=2, n_out=10)\n"
   ]
  },
  {
   "cell_type": "code",
   "execution_count": 238,
   "metadata": {},
   "outputs": [],
   "source": [
    "class Augment:\n",
    "    def __init__(self, K=2):\n",
    "        self.K = K\n",
    "        self.transform = transforms.Compose([transforms.RandomHorizontalFlip(),\n",
    "                                            transforms.RandomAffine(degrees = 0, translate = (0.1, 0.1)),\n",
    "                                            AddGaussianNoise(mean=0, std=0.15)])\n",
    "\n",
    "    def __call__(self, batch):\n",
    "        augmented_batch = torch.zeros((self.K, batch.shape[0], batch.shape[1], batch.shape[2], batch.shape[3]))\n",
    "        for k in range(self.K):\n",
    "            augmented_batch[k] = self.transform(batch)\n",
    "        return augmented_batch"
   ]
  },
  {
   "cell_type": "code",
   "execution_count": 317,
   "metadata": {},
   "outputs": [],
   "source": [
    "class MixMatch(object):\n",
    "\n",
    "    def __init__(self, model, T=0.5, K=2, alpha=0.75):\n",
    "        self.T = T\n",
    "        self.K = K\n",
    "        self.alpha = alpha\n",
    "        self.softmax = nn.Softmax(dim=1)\n",
    "        self.model = model\n",
    "        self.n_labels = 10 # Warning! hardcoded\n",
    "\n",
    "    def run(self, x_imgs, x_labels, u_imgs):\n",
    "        # One hot encoding\n",
    "        x_labels = self.one_hot_encoding(x_labels)\n",
    "        print(x_labels.shape)\n",
    "        # Augment\n",
    "        augment_once = Augment(K=1)\n",
    "        augment_k = Augment(K=self.K)\n",
    "        \n",
    "        start_aug = time.time()\n",
    "        x_hat = augment_once(x_imgs)\n",
    "        u_hat = augment_k(u_imgs)\n",
    "        print('Augment time: %.4f' % (time.time() - start_aug))\n",
    "\n",
    "        # Generate guessed labels\n",
    "        start_lbl = time.time()\n",
    "        q_bar = self.guess_label(u_hat)\n",
    "        print('Label time: %.4f' % (time.time() - start_lbl))\n",
    "\n",
    "        start_sharpen = time.time()\n",
    "        q = self.sharpen(q_bar)\n",
    "        print('Sharpen time: %.4f' % (time.time() - start_sharpen))\n",
    "\n",
    "        x_hat = x_hat.reshape((-1, 3, 32, 32))\n",
    "        u_hat = u_hat.reshape((-1, 3, 32, 32))\n",
    "        q = q.repeat(2,1,1).reshape(-1, 10)\n",
    "        w_img = torch.cat((x_hat, u_hat))\n",
    "        w_label = torch.cat((x_labels, q))\n",
    "        \n",
    "        return q, w_img, w_label\n",
    "    \n",
    "    \n",
    "    def sharpen(self, q_bar):\n",
    "        q_bar = q_bar.numpy()\n",
    "        q = np.power(q_bar, 1/self.T) / np.sum(np.power(q_bar, 1/self.T), axis=1)[:, np.newaxis]\n",
    "        return torch.from_numpy(q)\n",
    "    \n",
    "    def guess_label(self, u_hat):\n",
    "        n_batch = u_hat.shape[1]\n",
    "        \n",
    "        self.model.eval()\n",
    "        with torch.no_grad():\n",
    "            q_bar = torch.zeros([n_batch, self.n_labels])\n",
    "            for k in range(self.K):\n",
    "                q_bar += self.softmax(self.model(u_hat[k]))\n",
    "            q_bar /= self.K\n",
    "            \n",
    "        self.model.train()\n",
    "        return q_bar\n",
    "\n",
    "    def one_hot_encoding(self, labels):\n",
    "        shape = (labels.shape[0], self.n_labels)\n",
    "        one_hot = np.zeros(shape)\n",
    "        rows = np.arange(labels.shape[0])\n",
    "        one_hot[rows, labels] = 1\n",
    "        return torch.from_numpy(one_hot)\n",
    "    "
   ]
  },
  {
   "cell_type": "code",
   "execution_count": 318,
   "metadata": {},
   "outputs": [
    {
     "name": "stdout",
     "output_type": "stream",
     "text": [
      "torch.Size([4, 10])\n",
      "Augment time: 0.0037\n",
      "Label time: 0.0939\n",
      "Sharpen time: 0.0012\n",
      "torch.Size([4, 10])\n",
      "torch.Size([8, 10])\n",
      "Total time: 0.1002\n"
     ]
    }
   ],
   "source": [
    "x_imgs, x_labels = iter(train_loader).next()\n",
    "u_imgs, _ = iter(train_loader).next()\n",
    "\n",
    "mixmatch = MixMatch(model)\n",
    "\n",
    "start = time.time()\n",
    "q, w_img, w_label = mixmatch.run(x_imgs, x_labels, u_imgs)\n",
    "print('Total time: %.4f' % (time.time() - start))\n"
   ]
  },
  {
   "cell_type": "code",
   "execution_count": 122,
   "metadata": {},
   "outputs": [
    {
     "data": {
      "text/plain": [
       "torch.Size([64])"
      ]
     },
     "execution_count": 122,
     "metadata": {},
     "output_type": "execute_result"
    }
   ],
   "source": [
    " torch.sum(torch.pow(q_bar, 2), axis=1).shape\n",
    "    "
   ]
  },
  {
   "cell_type": "code",
   "execution_count": 50,
   "metadata": {},
   "outputs": [
    {
     "data": {
      "text/plain": [
       "torch.Size([1, 64, 3, 32, 32])"
      ]
     },
     "execution_count": 50,
     "metadata": {},
     "output_type": "execute_result"
    }
   ],
   "source": [
    "x_hat.shape"
   ]
  },
  {
   "cell_type": "code",
   "execution_count": 125,
   "metadata": {},
   "outputs": [
    {
     "data": {
      "text/plain": [
       "False"
      ]
     },
     "execution_count": 125,
     "metadata": {},
     "output_type": "execute_result"
    }
   ],
   "source": [
    "u_hat.requires_grad\n"
   ]
  },
  {
   "cell_type": "code",
   "execution_count": null,
   "metadata": {},
   "outputs": [],
   "source": []
  }
 ],
 "metadata": {
  "kernelspec": {
   "display_name": "Python 3",
   "language": "python",
   "name": "python3"
  },
  "language_info": {
   "codemirror_mode": {
    "name": "ipython",
    "version": 3
   },
   "file_extension": ".py",
   "mimetype": "text/x-python",
   "name": "python",
   "nbconvert_exporter": "python",
   "pygments_lexer": "ipython3",
   "version": "3.7.10"
  }
 },
 "nbformat": 4,
 "nbformat_minor": 4
}
