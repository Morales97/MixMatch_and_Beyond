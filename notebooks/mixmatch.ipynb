{
 "cells": [
  {
   "cell_type": "code",
   "execution_count": 1,
   "metadata": {},
   "outputs": [
    {
     "name": "stdout",
     "output_type": "stream",
     "text": [
      "/Users/dani/Google Drive/Uni/Master/P4 2021/DD2424 - Deep Learning for Data Science/Project/ScarceClassifier\n"
     ]
    }
   ],
   "source": [
    "cd .."
   ]
  },
  {
   "cell_type": "code",
   "execution_count": 5,
   "metadata": {},
   "outputs": [],
   "source": [
    "from src.d04_mixmatch.wideresnet import WideResNet\n",
    "from src.d02_data.load_data import get_dataloaders_validation\n",
    "from src.d03_processing.transform_data import AddGaussianNoise, Augment\n",
    "from src.d07_visualization.visualize_cifar10 import show_img\n",
    "import torch\n",
    "import torch.nn as nn\n",
    "import torch.optim as optim\n",
    "import torchvision.transforms as transforms\n",
    "import numpy as np\n",
    "import time"
   ]
  },
  {
   "cell_type": "code",
   "execution_count": 20,
   "metadata": {},
   "outputs": [
    {
     "name": "stdout",
     "output_type": "stream",
     "text": [
      "cpu\n"
     ]
    }
   ],
   "source": [
    "device = torch.device(\"cuda:0\" if torch.cuda.is_available() else \"cpu\")\n",
    "\n",
    "# Assuming that we are on a CUDA machine, this should print a CUDA device:\n",
    "\n",
    "print(device)"
   ]
  },
  {
   "cell_type": "code",
   "execution_count": 4,
   "metadata": {},
   "outputs": [
    {
     "name": "stdout",
     "output_type": "stream",
     "text": [
      "Files already downloaded and verified\n",
      "Files already downloaded and verified\n",
      "Files already downloaded and verified\n"
     ]
    },
    {
     "data": {
      "image/png": "[encoded data removed]",
      "text/plain": [
       "<Figure size 432x288 with 1 Axes>"
      ]
     },
     "metadata": {
      "needs_background": "light"
     },
     "output_type": "display_data"
    }
   ],
   "source": [
    "# Get data\n",
    "train_loader, val_loader, test_loader = get_dataloaders_validation(path='data', \n",
    "                                                                   batch_size=64, train_size=1000, val_size=0)\n",
    "show_img(iter(train_loader).next()[0][0])"
   ]
  },
  {
   "cell_type": "code",
   "execution_count": 8,
   "metadata": {},
   "outputs": [],
   "source": [
    "# Init new model\n",
    "model = WideResNet(depth=28, k=2, n_out=10)\n"
   ]
  },
  {
   "cell_type": "code",
   "execution_count": 16,
   "metadata": {},
   "outputs": [
    {
     "data": {
      "text/plain": [
       "<All keys matched successfully>"
      ]
     },
     "execution_count": 16,
     "metadata": {},
     "output_type": "execute_result"
    }
   ],
   "source": [
    "# Load saved model\n",
    "model_name = 'model_fs_adam.pt'\n",
    "saved_model = torch.load(f'models/saved_models/{model_name}', map_location=torch.device('cpu')) \n",
    "\n",
    "model = WideResNet(depth=28, k=2, n_out=10)\n",
    "model.load_state_dict(saved_model['model_state_dict'])"
   ]
  },
  {
   "cell_type": "code",
   "execution_count": 22,
   "metadata": {},
   "outputs": [],
   "source": [
    "class MixMatch(object):\n",
    "\n",
    "    def __init__(self, model, batch_size, device='cpu', T=0.5, K=2, alpha=0.75):\n",
    "        self.T = T\n",
    "        self.K = K\n",
    "        self.batch_size = batch_size\n",
    "        self.alpha = alpha\n",
    "        self.softmax = nn.Softmax(dim=1)\n",
    "        self.model = model\n",
    "        self.device = device\n",
    "        self.n_labels = 10  # Warning! hardcoded\n",
    "        self.beta = torch.distributions.beta.Beta(alpha, alpha)\n",
    "\n",
    "    def run(self, x_imgs, x_labels, u_imgs):\n",
    "        # One hot encoding\n",
    "        x_labels = self.one_hot_encoding(x_labels)\n",
    "        x_labels.to(self.device)\n",
    "\n",
    "        # Augment\n",
    "        augment_once = Augment(K=1)\n",
    "        augment_k = Augment(K=self.K)\n",
    "\n",
    "        x_hat = augment_once(x_imgs)  # shape (1, batch_size, 3, 32, 32)\n",
    "        u_hat = augment_k(u_imgs)     # shape (K, batch_size, 3, 32, 32)\n",
    "\n",
    "        # Generate guessed labels\n",
    "        q_bar = self.guess_label(u_hat)\n",
    "        q = self.sharpen(q_bar)  # shape (K, batch_size, 10)\n",
    "\n",
    "        x_hat = x_hat.reshape((-1, 3, 32, 32))  # shape (batch_size, 3, 32, 32)\n",
    "        u_hat = u_hat.reshape((-1, 3, 32, 32))  # shape (K*batch_size, 3, 32, 32)\n",
    "        q = q.repeat(self.K, 1, 1).reshape(-1, 10)  # shape (K*batch_size, 10)\n",
    "\n",
    "        # Concat and shuffle\n",
    "        w_imgs = torch.cat((x_hat, u_hat))\n",
    "        w_labels = torch.cat((x_labels, q))\n",
    "        w_imgs, w_labels = self.shuffle_matrices(w_imgs, w_labels)\n",
    "\n",
    "        # Apply MixUp\n",
    "        x_prime, p_prime = self.mixup(x_hat, w_imgs[:self.batch_size], x_labels, w_labels[:self.batch_size])\n",
    "        u_prime, q_prime = self.mixup(u_hat, w_imgs[self.batch_size:], q, w_labels[self.batch_size:])\n",
    "\n",
    "        return (x_prime, p_prime), (u_prime, q_prime)\n",
    "\n",
    "    def mixup(self, x1, x2, p1, p2):\n",
    "        n_samples = x1.shape[0]\n",
    "        lambda_rand = self.beta.sample([n_samples, 1, 1, 1]).to(self.device)  # one lambda per sample\n",
    "        lambda_prime = torch.max(lambda_rand, 1 - lambda_rand).to(self.device)\n",
    "        x_prime = lambda_prime * x1 + (1 - lambda_prime) * x2\n",
    "        lambda_prime = lambda_prime.reshape(-1, 1)\n",
    "        p_prime = lambda_prime * p1 + (1 - lambda_prime) * p2\n",
    "        return x_prime, p_prime\n",
    "\n",
    "    def sharpen(self, q_bar):\n",
    "        #q_bar = q_bar.numpy()\n",
    "        q = torch.pow(q_bar, 1 / self.T) / torch.sum(torch.pow(q_bar, 1 / self.T), axis=1)[:, np.newaxis]\n",
    "        return q\n",
    "\n",
    "    def guess_label(self, u_hat):\n",
    "        self.model.eval()\n",
    "        with torch.no_grad():\n",
    "            q_bar = torch.zeros([self.batch_size, self.n_labels], device=self.device)\n",
    "            for k in range(self.K):\n",
    "                q_bar += self.softmax(self.model(u_hat[k]))\n",
    "            q_bar /= self.K\n",
    "\n",
    "        self.model.train()\n",
    "        return q_bar\n",
    "\n",
    "    def one_hot_encoding(self, labels):\n",
    "        shape = (labels.shape[0], self.n_labels)\n",
    "        one_hot = torch.zeros(shape, dtype=torch.float32, device=self.device)\n",
    "        rows = torch.arange(labels.shape[0])\n",
    "        one_hot[rows, labels] = 1\n",
    "        return one_hot\n",
    "\n",
    "    # shuffles along the first axis (axis 0)\n",
    "    def shuffle_matrices(self, m1, m2):\n",
    "        n_samples = m1.shape[0]\n",
    "        rand_indexes = torch.randperm(n_samples)\n",
    "        m1 = m1[rand_indexes]\n",
    "        m2 = m2[rand_indexes]\n",
    "        return m1, m2"
   ]
  },
  {
   "cell_type": "code",
   "execution_count": 55,
   "metadata": {},
   "outputs": [
    {
     "name": "stdout",
     "output_type": "stream",
     "text": [
      "torch.Size([64, 10])\n",
      "torch.Size([64, 10])\n",
      "torch.Size([128, 10])\n",
      "torch.Size([128, 10])\n",
      "tensor([-1.8210, -3.8468, -1.9981, -1.9374, -4.6211, -3.0657, -3.6808, -3.5633,\n",
      "        -0.9482, -3.2271], grad_fn=<SelectBackward>)\n",
      "Loss: 3.470468044281006\n",
      "Lx: 1.8065435886383057\n",
      "Lu_w: 1.6639243364334106\n"
     ]
    }
   ],
   "source": [
    "x_imgs, x_labels = iter(train_loader).next()\n",
    "u_imgs, _ = iter(train_loader).next()\n",
    "\n",
    "mixmatch = MixMatch(model, 64)\n",
    "x, u = mixmatch.run(x_imgs, x_labels, u_imgs)\n",
    "loss_mixmatch = Loss(75, 16000)\n",
    "\n",
    "x_in = x[0]\n",
    "x_lbl = x[1]\n",
    "u_in = u[0]\n",
    "u_lbl = u[1]\n",
    "\n",
    "x_out = model(x_in)\n",
    "u_out = model(u_in)\n",
    "\n",
    "print(x_out.shape)\n",
    "print(x_lbl.shape)\n",
    "print(u_out.shape)\n",
    "print(u_lbl.shape)\n",
    "\n",
    "loss, lx, lu_w = loss_mixmatch(x_out, x_lbl, u_out, u_lbl, 16000)\n",
    "print('Loss: ' + str(loss))\n",
    "print('Lx: ' + str(lx))\n",
    "print('Lu_w: ' + str(lu_w))\n"
   ]
  },
  {
   "cell_type": "code",
   "execution_count": 59,
   "metadata": {},
   "outputs": [
    {
     "data": {
      "image/png": "[encoded data removed]",
      "text/plain": [
       "<Figure size 432x288 with 1 Axes>"
      ]
     },
     "metadata": {
      "needs_background": "light"
     },
     "output_type": "display_data"
    },
    {
     "name": "stdout",
     "output_type": "stream",
     "text": [
      "tensor([0.1001, 0.0999, 0.1000, 0.1000, 0.0999, 0.0999, 0.0999, 0.0999, 0.1003,\n",
      "        0.0999], grad_fn=<SelectBackward>)\n",
      "tensor([1.3048e-14, 3.2468e-16, 2.2733e-11, 6.8850e-09, 9.7845e-01, 2.1548e-02,\n",
      "        3.1218e-16, 1.2321e-10, 1.6914e-17, 1.3218e-13])\n",
      "2.303502321243286\n"
     ]
    }
   ],
   "source": [
    "show_img(x_in[0])\n",
    "x_out = torch.softmax(x_out, dim=1)\n",
    "print(x_out[0])\n",
    "print(x_lbl[0])\n",
    "\n",
    "ce_loss = - torch.log(torch.mean(torch.sum(x_lbl[0] * x_out[0])))\n",
    "print(ce_loss.item())"
   ]
  },
  {
   "cell_type": "code",
   "execution_count": 428,
   "metadata": {},
   "outputs": [],
   "source": [
    "x_imgs, x_labels = iter(train_loader).next()\n"
   ]
  },
  {
   "cell_type": "code",
   "execution_count": 25,
   "metadata": {},
   "outputs": [
    {
     "name": "stderr",
     "output_type": "stream",
     "text": [
      "Clipping input data to the valid range for imshow with RGB data ([0..1] for floats or [0..255] for integers).\n"
     ]
    },
    {
     "data": {
      "image/png": "[encoded data removed]",
      "text/plain": [
       "<Figure size 432x288 with 1 Axes>"
      ]
     },
     "metadata": {
      "needs_background": "light"
     },
     "output_type": "display_data"
    },
    {
     "name": "stdout",
     "output_type": "stream",
     "text": [
      "tensor(1)\n"
     ]
    },
    {
     "data": {
      "image/png": "[encoded data removed]",
      "text/plain": [
       "<Figure size 432x288 with 1 Axes>"
      ]
     },
     "metadata": {
      "needs_background": "light"
     },
     "output_type": "display_data"
    },
    {
     "name": "stderr",
     "output_type": "stream",
     "text": [
      "Clipping input data to the valid range for imshow with RGB data ([0..1] for floats or [0..255] for integers).\n"
     ]
    },
    {
     "name": "stdout",
     "output_type": "stream",
     "text": [
      "tensor(6)\n"
     ]
    },
    {
     "data": {
      "image/png": "[encoded data removed]",
      "text/plain": [
       "<Figure size 432x288 with 1 Axes>"
      ]
     },
     "metadata": {
      "needs_background": "light"
     },
     "output_type": "display_data"
    },
    {
     "data": {
      "image/png": "[encoded data removed]",
      "text/plain": [
       "<Figure size 432x288 with 1 Axes>"
      ]
     },
     "metadata": {
      "needs_background": "light"
     },
     "output_type": "display_data"
    },
    {
     "data": {
      "image/png": "[encoded data removed]",
      "text/plain": [
       "<Figure size 432x288 with 1 Axes>"
      ]
     },
     "metadata": {
      "needs_background": "light"
     },
     "output_type": "display_data"
    },
    {
     "name": "stdout",
     "output_type": "stream",
     "text": [
      "tensor([3.3643e-07, 5.1649e-01, 8.6031e-05, 3.4667e-01, 3.3124e-07, 7.0751e-04,\n",
      "        1.3602e-01, 1.0185e-07, 5.4969e-06, 1.4251e-05])\n"
     ]
    }
   ],
   "source": [
    "x_imgs, x_labels = iter(train_loader).next()\n",
    "u_imgs, _ = iter(train_loader).next()\n",
    "\n",
    "show_img(x_imgs[0])\n",
    "print(x_labels[0])\n",
    "show_img(x_imgs[1])\n",
    "print(x_labels[1])\n",
    "show_img(u_imgs[0])\n",
    "show_img(u_imgs[1])\n",
    "\n",
    "mixmatch = MixMatch(model, 64, K=2)\n",
    "x, u = mixmatch.run(x_imgs, x_labels, u_imgs)\n",
    "\n",
    "\n",
    "x_prime = x[0]\n",
    "p_prime = x[1]\n",
    "u_prime = u[0]\n",
    "q_prime = u[1]\n",
    "\n",
    "show_img(x_prime[0])\n",
    "print(p_prime[0])\n",
    "\n",
    "\n"
   ]
  },
  {
   "cell_type": "code",
   "execution_count": null,
   "metadata": {},
   "outputs": [],
   "source": [
    "x_imgs, x_labels = iter(train_loader).next()\n"
   ]
  },
  {
   "cell_type": "code",
   "execution_count": 54,
   "metadata": {},
   "outputs": [],
   "source": [
    "class Loss(object):\n",
    "\n",
    "    def __init__(self, lambda_u_max, step_top_up):\n",
    "        self.lambda_u_max = lambda_u_max\n",
    "        self.step_top_up = step_top_up\n",
    "\n",
    "    def __call__(self, x_output, x_target, u_output, u_target, step):\n",
    "        lambda_u = self.ramp_up_lambda(step)\n",
    "        mse_loss = nn.MSELoss()\n",
    "        u_output = torch.softmax(u_output, dim=1)\n",
    "        print(torch.log_softmax(x_output, dim=1)[0])\n",
    "        lx = - torch.mean(torch.sum(x_target * torch.log_softmax(x_output, dim=1), dim=1))\n",
    "        lu = mse_loss(u_output, u_target)\n",
    "        loss = lx + lu * lambda_u\n",
    "\n",
    "        return loss.item(), lx.item(), (lu * lambda_u).item()\n",
    "\n",
    "    def ramp_up_lambda(self, step):\n",
    "        if step > self.step_top_up:\n",
    "            return self.lambda_u_max\n",
    "        else:\n",
    "            return self.lambda_u_max * step / self.step_top_up\n"
   ]
  },
  {
   "cell_type": "code",
   "execution_count": null,
   "metadata": {},
   "outputs": [],
   "source": []
  }
 ],
 "metadata": {
  "kernelspec": {
   "display_name": "Python 3",
   "language": "python",
   "name": "python3"
  },
  "language_info": {
   "codemirror_mode": {
    "name": "ipython",
    "version": 3
   },
   "file_extension": ".py",
   "mimetype": "text/x-python",
   "name": "python",
   "nbconvert_exporter": "python",
   "pygments_lexer": "ipython3",
   "version": "3.7.10"
  }
 },
 "nbformat": 4,
 "nbformat_minor": 4
}
