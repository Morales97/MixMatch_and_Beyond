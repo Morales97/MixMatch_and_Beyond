{
 "cells": [
  {
   "cell_type": "code",
   "execution_count": 38,
   "id": "2363ddd9",
   "metadata": {},
   "outputs": [
    {
     "name": "stdout",
     "output_type": "stream",
     "text": [
      "/Users/dani/Google Drive/Uni/Master/P4 2021/DD2424 - Deep Learning for Data Science/Project/ScarceClassifier/src\n"
     ]
    }
   ],
   "source": [
    "cd ../src"
   ]
  },
  {
   "cell_type": "code",
   "execution_count": 39,
   "id": "55773b65",
   "metadata": {},
   "outputs": [],
   "source": [
    "from d02_data.load_data import get_dataloaders_ssl\n",
    "from d04_mixmatch.wideresnet import WideResNet\n",
    "import torch\n",
    "import torch.nn as nn\n",
    "import numpy as np\n",
    "import time\n",
    "import yaml\n",
    "from pathlib import Path\n"
   ]
  },
  {
   "cell_type": "code",
   "execution_count": 40,
   "id": "30730cbd",
   "metadata": {},
   "outputs": [
    {
     "name": "stdout",
     "output_type": "stream",
     "text": [
      "cpu\n"
     ]
    }
   ],
   "source": [
    "device = torch.device(\"cuda:0\" if torch.cuda.is_available() else \"cpu\")\n",
    "\n",
    "# Assuming that we are on a CUDA machine, this should print a CUDA device:\n",
    "\n",
    "print(device)"
   ]
  },
  {
   "cell_type": "code",
   "execution_count": 41,
   "id": "81a908d1",
   "metadata": {},
   "outputs": [],
   "source": [
    "configuration = yaml.load(Path(\"config.yml\").read_text(), Loader=yaml.SafeLoader)\n",
    "\n",
    "config = configuration['MixMatchTrainer']\n",
    "params = configuration['WideResNet']\n",
    "adam = config['adam']\n",
    "sgd = config['sgd']\n",
    "\n",
    "batch_size = configuration['cifar_10']['batch_size']\n",
    "num_labeled = configuration['cifar_10']['num_labeled']\n",
    "n_steps = 1000\n",
    "K = config['K']\n",
    "lambda_u_max = config['lambda_u_max']\n",
    "steps_validation = config['steps_validation']\n",
    "steps_checkpoint = config['steps_checkpoint']\n",
    "step_top_up = 500\n",
    "optimizer = config['optimizer']\n",
    "adam_params = adam['lr'], adam['weight_decay']\n",
    "sgd_params = sgd['lr'], sgd['momentum'], sgd['weight_decay']\n",
    "\n",
    "wideresnet_params = (params['depth'], params['k'], params['n_out'])"
   ]
  },
  {
   "cell_type": "code",
   "execution_count": 42,
   "id": "aa59ccc1",
   "metadata": {},
   "outputs": [
    {
     "name": "stdout",
     "output_type": "stream",
     "text": [
      "Files already downloaded and verified\n",
      "Files already downloaded and verified\n"
     ]
    }
   ],
   "source": [
    "# Get data\n",
    "_, _, _, test_loader = get_dataloaders_ssl(path='../data', batch_size=batch_size, num_labeled=num_labeled)\n"
   ]
  },
  {
   "cell_type": "code",
   "execution_count": 43,
   "id": "e0f1d2eb",
   "metadata": {},
   "outputs": [],
   "source": [
    "model = WideResNet(depth=28, k=2, n_out=10).to(device)"
   ]
  },
  {
   "cell_type": "code",
   "execution_count": 47,
   "id": "cb32400e",
   "metadata": {},
   "outputs": [],
   "source": [
    "checkpoint = torch.load('../models/checkpoint_30k.pt', map_location=torch.device('cpu'))\n"
   ]
  },
  {
   "cell_type": "code",
   "execution_count": 48,
   "id": "09240007",
   "metadata": {},
   "outputs": [
    {
     "data": {
      "text/plain": [
       "dict_keys(['step', 'model_state_dict', 'optimizer_state_dict'])"
      ]
     },
     "execution_count": 48,
     "metadata": {},
     "output_type": "execute_result"
    }
   ],
   "source": [
    "checkpoint.keys()\n"
   ]
  },
  {
   "cell_type": "code",
   "execution_count": 49,
   "id": "9efbf626",
   "metadata": {},
   "outputs": [
    {
     "data": {
      "text/plain": [
       "<All keys matched successfully>"
      ]
     },
     "execution_count": 49,
     "metadata": {},
     "output_type": "execute_result"
    }
   ],
   "source": [
    "model.load_state_dict(checkpoint['model_state_dict'])"
   ]
  },
  {
   "cell_type": "code",
   "execution_count": 50,
   "id": "13dc25f9",
   "metadata": {},
   "outputs": [],
   "source": [
    "def evaluate(dataloader):\n",
    "    criterion = nn.CrossEntropyLoss()\n",
    "    model.eval()\n",
    "    correct, total, loss = 0, 0, 0\n",
    "    with torch.no_grad():\n",
    "        for i, data in enumerate(dataloader, 0):\n",
    "            inputs, labels = data[0].to(device), data[1].to(device)\n",
    "            outputs = model(inputs)\n",
    "            loss += criterion(outputs, labels).item()\n",
    "\n",
    "            _, predicted = torch.max(outputs.data, 1)\n",
    "            total += labels.size(0)\n",
    "            correct += (predicted == labels).sum().item()\n",
    "        loss /= dataloader.__len__()\n",
    "\n",
    "    acc = correct / total * 100\n",
    "    return loss, acc"
   ]
  },
  {
   "cell_type": "code",
   "execution_count": 51,
   "id": "33acaa51",
   "metadata": {},
   "outputs": [
    {
     "name": "stdout",
     "output_type": "stream",
     "text": [
      "Training done!!\t Test loss: 2.445 \t Test accuracy: 32.160\n"
     ]
    }
   ],
   "source": [
    "test_val, test_acc = evaluate(test_loader)\n",
    "print(\"Training done!!\\t Test loss: %.3f \\t Test accuracy: %.3f\" % (test_val, test_acc))"
   ]
  },
  {
   "cell_type": "code",
   "execution_count": null,
   "id": "25e52881",
   "metadata": {},
   "outputs": [],
   "source": []
  }
 ],
 "metadata": {
  "kernelspec": {
   "display_name": "Python 3",
   "language": "python",
   "name": "python3"
  },
  "language_info": {
   "codemirror_mode": {
    "name": "ipython",
    "version": 3
   },
   "file_extension": ".py",
   "mimetype": "text/x-python",
   "name": "python",
   "nbconvert_exporter": "python",
   "pygments_lexer": "ipython3",
   "version": "3.7.10"
  }
 },
 "nbformat": 4,
 "nbformat_minor": 5
}
