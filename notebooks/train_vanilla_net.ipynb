{
 "cells": [
  {
   "cell_type": "code",
   "execution_count": 5,
   "id": "7af34ebc",
   "metadata": {
    "colab": {
     "base_uri": "https://localhost:8080/"
    },
    "executionInfo": {
     "elapsed": 18759,
     "status": "ok",
     "timestamp": 1620149975710,
     "user": {
      "displayName": "Dani Morales",
      "photoUrl": "",
      "userId": "08994753156891326353"
     },
     "user_tz": -120
    },
    "id": "1turXXgYbov8",
    "outputId": "c81b7743-e69e-45af-8920-264a7f6ffde2"
   },
   "outputs": [
    {
     "name": "stdout",
     "output_type": "stream",
     "text": [
      "Mounted at /content/gdrive\n"
     ]
    }
   ],
   "source": [
    "from google.colab import drive\n",
    "drive.mount('/content/gdrive')"
   ]
  },
  {
   "cell_type": "code",
   "execution_count": 38,
   "id": "f3a7022d",
   "metadata": {
    "colab": {
     "base_uri": "https://localhost:8080/"
    },
    "executionInfo": {
     "elapsed": 581,
     "status": "ok",
     "timestamp": 1620150988896,
     "user": {
      "displayName": "Dani Morales",
      "photoUrl": "",
      "userId": "08994753156891326353"
     },
     "user_tz": -120
    },
    "id": "78qAN59tdv-Q",
    "outputId": "855a7a5b-43cd-4fb6-ca35-31aecd6ea580"
   },
   "outputs": [
    {
     "name": "stdout",
     "output_type": "stream",
     "text": [
      "/content/gdrive/MyDrive/Uni/Master/P4 2021/DD2424 - Deep Learning for Data Science/Project/ScarceClassifier\n"
     ]
    }
   ],
   "source": [
    "%cd /content/gdrive/MyDrive/Uni/Master/P4 2021/DD2424 - Deep Learning for Data Science/Project/ScarceClassifier"
   ]
  },
  {
   "cell_type": "code",
   "execution_count": 54,
   "id": "931c87b2",
   "metadata": {
    "executionInfo": {
     "elapsed": 1016,
     "status": "ok",
     "timestamp": 1620151540134,
     "user": {
      "displayName": "Dani Morales",
      "photoUrl": "",
      "userId": "08994753156891326353"
     },
     "user_tz": -120
    },
    "id": "AXPwtPfMbqqN"
   },
   "outputs": [],
   "source": [
    "from src.d04_mixmatch.vanilla_net import VanillaNet\n",
    "from src.d02_data.load_data import get_dataloaders\n",
    "from src.d07_visualization.visualize_cifar10 import show_img\n",
    "import torch\n",
    "import torch.nn as nn\n",
    "import torch.optim as optim"
   ]
  },
  {
   "cell_type": "code",
   "execution_count": 55,
   "id": "0b38bb90",
   "metadata": {
    "colab": {
     "base_uri": "https://localhost:8080/"
    },
    "executionInfo": {
     "elapsed": 929,
     "status": "ok",
     "timestamp": 1620151544325,
     "user": {
      "displayName": "Dani Morales",
      "photoUrl": "",
      "userId": "08994753156891326353"
     },
     "user_tz": -120
    },
    "id": "9xQSapDidc_O",
    "outputId": "eb0a1de1-7ee9-449f-c2f3-bfd93ca13af8"
   },
   "outputs": [
    {
     "name": "stdout",
     "output_type": "stream",
     "text": [
      "cuda:0\n"
     ]
    }
   ],
   "source": [
    "device = torch.device(\"cuda:0\" if torch.cuda.is_available() else \"cpu\")\n",
    "\n",
    "# Assuming that we are on a CUDA machine, this should print a CUDA device:\n",
    "\n",
    "print(device)"
   ]
  },
  {
   "cell_type": "code",
   "execution_count": 56,
   "id": "1521f92d",
   "metadata": {
    "colab": {
     "base_uri": "https://localhost:8080/",
     "height": 301
    },
    "executionInfo": {
     "elapsed": 2412,
     "status": "ok",
     "timestamp": 1620151546453,
     "user": {
      "displayName": "Dani Morales",
      "photoUrl": "",
      "userId": "08994753156891326353"
     },
     "user_tz": -120
    },
    "id": "bqwclmJtcMwv",
    "outputId": "729f21d6-ee39-4452-9d0e-55e05236f5c2"
   },
   "outputs": [
    {
     "name": "stdout",
     "output_type": "stream",
     "text": [
      "Files already downloaded and verified\n",
      "Files already downloaded and verified\n"
     ]
    },
    {
     "data": {
      "image/png": "[encoded data removed]",
      "text/plain": [
       "<Figure size 432x288 with 1 Axes>"
      ]
     },
     "metadata": {
      "needs_background": "light",
      "tags": []
     },
     "output_type": "display_data"
    }
   ],
   "source": [
    "# Load data\n",
    "trainset, trainloader, testset, testloader = get_dataloaders(path='/data')\n",
    "\n",
    "# show image\n",
    "show_img(iter(trainloader).next()[0][0])"
   ]
  },
  {
   "cell_type": "code",
   "execution_count": 57,
   "id": "aeedbf70",
   "metadata": {
    "executionInfo": {
     "elapsed": 500,
     "status": "ok",
     "timestamp": 1620151548958,
     "user": {
      "displayName": "Dani Morales",
      "photoUrl": "",
      "userId": "08994753156891326353"
     },
     "user_tz": -120
    },
    "id": "r7UmzeWjc6cn"
   },
   "outputs": [],
   "source": [
    "# Create model \n",
    "net = VanillaNet()\n",
    "net.to(device)\n",
    "\n",
    "# Select loss and optimizer\n",
    "criterion = nn.CrossEntropyLoss()\n",
    "optimizer = optim.SGD(net.parameters(), lr=0.001, momentum=0.9)\n",
    "\n",
    "n_epochs = 100"
   ]
  },
  {
   "cell_type": "code",
   "execution_count": null,
   "id": "c16d78d8",
   "metadata": {
    "colab": {
     "base_uri": "https://localhost:8080/"
    },
    "id": "nkzyptete-JU",
    "outputId": "bb10c9ad-35c8-480f-aa8e-bef359038888"
   },
   "outputs": [
    {
     "name": "stdout",
     "output_type": "stream",
     "text": [
      "[1,  2000] loss: 2.042\n",
      "[1,  4000] loss: 1.682\n",
      "[1,  6000] loss: 1.611\n",
      "[1,  8000] loss: 1.540\n",
      "[1, 10000] loss: 1.492\n",
      "[1, 12000] loss: 1.459\n",
      "[2,  2000] loss: 1.392\n",
      "[2,  4000] loss: 1.364\n",
      "[2,  6000] loss: 1.340\n",
      "[2,  8000] loss: 1.297\n",
      "[2, 10000] loss: 1.311\n"
     ]
    }
   ],
   "source": [
    "# Train\n",
    "for epoch in range(n_epochs): \n",
    "\n",
    "    running_loss = 0.0\n",
    "    for i, data in enumerate(trainloader, 0):\n",
    "        # inputs, labels = data\n",
    "        inputs, labels = data[0].to(device), data[1].to(device) # send to cuda\n",
    "\n",
    "        # zero the parameter gradients\n",
    "        optimizer.zero_grad()\n",
    "\n",
    "        # forward + backward + optimize\n",
    "        outputs = net(inputs)\n",
    "        loss = criterion(outputs, labels)\n",
    "        loss.backward()\n",
    "        optimizer.step()\n",
    "\n",
    "        # print statistics\n",
    "        running_loss += loss.item()\n",
    "        if i % 2000 == 1999:    # print every 2000 mini-batches\n",
    "            print('[%d, %5d] loss: %.3f' %\n",
    "                (epoch + 1, i + 1, running_loss / 2000))\n",
    "            running_loss = 0.0\n",
    "\n",
    "print('Finished Training')"
   ]
  },
  {
   "cell_type": "code",
   "execution_count": 51,
   "id": "ee33b73c",
   "metadata": {
    "colab": {
     "base_uri": "https://localhost:8080/"
    },
    "executionInfo": {
     "elapsed": 7650,
     "status": "ok",
     "timestamp": 1620151228831,
     "user": {
      "displayName": "Dani Morales",
      "photoUrl": "",
      "userId": "08994753156891326353"
     },
     "user_tz": -120
    },
    "id": "sP3IYWlfiUUA",
    "outputId": "ad9f56df-92c6-4685-eb3c-33e13dac09fc"
   },
   "outputs": [
    {
     "name": "stdout",
     "output_type": "stream",
     "text": [
      "Accuracy of the network on the 10000 test images: 50 %\n"
     ]
    }
   ],
   "source": [
    "# calculate accuracy\n",
    "correct, total = 0, 0\n",
    "# since we're not training, we don't need to calculate the gradients for our outputs\n",
    "with torch.no_grad():\n",
    "    for data in testloader:\n",
    "        images, labels = data[0].to(device), data[1].to(device)\n",
    "        # calculate outputs by running images through the network\n",
    "        outputs = net(images)\n",
    "        # the class with the highest energy is what we choose as prediction\n",
    "        _, predicted = torch.max(outputs.data, 1)\n",
    "        total += labels.size(0)\n",
    "        correct += (predicted == labels).sum().item()\n",
    "\n",
    "print('Accuracy of the network on the 10000 test images: %d %%' % (\n",
    "        100 * correct / total))\n"
   ]
  },
  {
   "cell_type": "code",
   "execution_count": 45,
   "id": "0446b881",
   "metadata": {
    "executionInfo": {
     "elapsed": 925,
     "status": "ok",
     "timestamp": 1620151106362,
     "user": {
      "displayName": "Dani Morales",
      "photoUrl": "",
      "userId": "08994753156891326353"
     },
     "user_tz": -120
    },
    "id": "1UJnIUZQf9aa"
   },
   "outputs": [],
   "source": [
    "# Save model\n",
    "model_save_name = 'vanilla_net.pt'\n",
    "path = F\"/content/gdrive/MyDrive/Uni/Master/P4 2021/DD2424 - Deep Learning for Data Science/Project/ScarceClassifier/models/{model_save_name}\"\n",
    "torch.save(net.state_dict(), path)"
   ]
  },
  {
   "cell_type": "code",
   "execution_count": 49,
   "id": "33fdcf28",
   "metadata": {
    "colab": {
     "base_uri": "https://localhost:8080/"
    },
    "executionInfo": {
     "elapsed": 566,
     "status": "ok",
     "timestamp": 1620151172001,
     "user": {
      "displayName": "Dani Morales",
      "photoUrl": "",
      "userId": "08994753156891326353"
     },
     "user_tz": -120
    },
    "id": "2ofAY-SxgIB9",
    "outputId": "f9b54669-aef7-4b17-f8aa-3cbb70a6aed5"
   },
   "outputs": [
    {
     "data": {
      "text/plain": [
       "<All keys matched successfully>"
      ]
     },
     "execution_count": 49,
     "metadata": {
      "tags": []
     },
     "output_type": "execute_result"
    }
   ],
   "source": [
    "# Load model\n",
    "model_save_name = 'vanilla_net.pt'\n",
    "path = F\"/content/gdrive/MyDrive/Uni/Master/P4 2021/DD2424 - Deep Learning for Data Science/Project/ScarceClassifier/models/{model_save_name}\"\n",
    "net.load_state_dict(torch.load(path))\n"
   ]
  },
  {
   "cell_type": "code",
   "execution_count": null,
   "id": "e8572439",
   "metadata": {
    "id": "fzMwi2oLhZ9r"
   },
   "outputs": [],
   "source": []
  }
 ],
 "metadata": {
  "accelerator": "GPU",
  "colab": {
   "name": "train_vanilla_net.ipynb",
   "provenance": []
  },
  "kernelspec": {
   "display_name": "Python 3",
   "language": "python",
   "name": "python3"
  },
  "language_info": {
   "codemirror_mode": {
    "name": "ipython",
    "version": 3
   },
   "file_extension": ".py",
   "mimetype": "text/x-python",
   "name": "python",
   "nbconvert_exporter": "python",
   "pygments_lexer": "ipython3",
   "version": "3.7.10"
  }
 },
 "nbformat": 4,
 "nbformat_minor": 5
}
