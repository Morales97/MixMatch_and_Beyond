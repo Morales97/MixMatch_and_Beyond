{
 "cells": [
  {
   "cell_type": "code",
   "execution_count": 1,
   "id": "e102f0dc",
   "metadata": {},
   "outputs": [
    {
     "name": "stdout",
     "output_type": "stream",
     "text": [
      "/Users/dani/Google Drive/Uni/Master/P4 2021/DD2424 - Deep Learning for Data Science/Project/ScarceClassifier/src\n"
     ]
    }
   ],
   "source": [
    "cd ../src"
   ]
  },
  {
   "cell_type": "code",
   "execution_count": 10,
   "id": "c343d68b",
   "metadata": {},
   "outputs": [],
   "source": [
    "from d04_mixmatch.wideresnet import WideResNet\n",
    "from d04_mixmatch.wideresnet_funnel import WideResNetFunnel\n",
    "from d02_data.load_data import get_dataloaders_ssl\n",
    "import torch\n",
    "import torch.nn as nn\n",
    "import matplotlib.pyplot as plt\n",
    "import numpy as np"
   ]
  },
  {
   "cell_type": "code",
   "execution_count": 11,
   "id": "5f61bc3f",
   "metadata": {},
   "outputs": [
    {
     "data": {
      "text/plain": [
       "<All keys matched successfully>"
      ]
     },
     "execution_count": 11,
     "metadata": {},
     "output_type": "execute_result"
    }
   ],
   "source": [
    "model_name = 'model_fs_funnel.pt'\n",
    "saved_model = torch.load(f'../models/saved_models/{model_name}', map_location=torch.device('cpu')) \n",
    "\n",
    "model = WideResNetFunnel(depth=28, k=2, n_out=10)\n",
    "model.load_state_dict(saved_model['model_state_dict'])"
   ]
  },
  {
   "cell_type": "code",
   "execution_count": 12,
   "id": "b1161431",
   "metadata": {},
   "outputs": [
    {
     "name": "stdout",
     "output_type": "stream",
     "text": [
      "----------------------------------------------------------------\n",
      "        Layer (type)               Output Shape         Param #\n",
      "================================================================\n",
      "            Conv2d-1           [-1, 32, 16, 16]          27,776\n",
      "       BatchNorm2d-2           [-1, 32, 16, 16]              64\n",
      "         LeakyReLU-3           [-1, 32, 16, 16]               0\n",
      "            Conv2d-4           [-1, 64, 16, 16]           2,112\n",
      "            Conv2d-5           [-1, 64, 16, 16]          18,496\n",
      "       BatchNorm2d-6           [-1, 64, 16, 16]             128\n",
      "         LeakyReLU-7           [-1, 64, 16, 16]               0\n",
      "            Conv2d-8           [-1, 64, 16, 16]          36,928\n",
      "   TransitionBlock-9           [-1, 64, 16, 16]               0\n",
      "      BatchNorm2d-10           [-1, 64, 16, 16]             128\n",
      "        LeakyReLU-11           [-1, 64, 16, 16]               0\n",
      "           Conv2d-12           [-1, 64, 16, 16]          36,928\n",
      "      BatchNorm2d-13           [-1, 64, 16, 16]             128\n",
      "        LeakyReLU-14           [-1, 64, 16, 16]               0\n",
      "           Conv2d-15           [-1, 64, 16, 16]          36,928\n",
      "       BasicBlock-16           [-1, 64, 16, 16]               0\n",
      "      BatchNorm2d-17           [-1, 64, 16, 16]             128\n",
      "        LeakyReLU-18           [-1, 64, 16, 16]               0\n",
      "           Conv2d-19           [-1, 64, 16, 16]          36,928\n",
      "      BatchNorm2d-20           [-1, 64, 16, 16]             128\n",
      "        LeakyReLU-21           [-1, 64, 16, 16]               0\n",
      "           Conv2d-22           [-1, 64, 16, 16]          36,928\n",
      "       BasicBlock-23           [-1, 64, 16, 16]               0\n",
      "      BatchNorm2d-24           [-1, 64, 16, 16]             128\n",
      "        LeakyReLU-25           [-1, 64, 16, 16]               0\n",
      "           Conv2d-26           [-1, 64, 16, 16]          36,928\n",
      "      BatchNorm2d-27           [-1, 64, 16, 16]             128\n",
      "        LeakyReLU-28           [-1, 64, 16, 16]               0\n",
      "           Conv2d-29           [-1, 64, 16, 16]          36,928\n",
      "       BasicBlock-30           [-1, 64, 16, 16]               0\n",
      "        ConvGroup-31           [-1, 64, 16, 16]               0\n",
      "      BatchNorm2d-32           [-1, 64, 16, 16]             128\n",
      "        LeakyReLU-33           [-1, 64, 16, 16]               0\n",
      "           Conv2d-34            [-1, 128, 8, 8]           8,320\n",
      "           Conv2d-35            [-1, 128, 8, 8]          73,856\n",
      "      BatchNorm2d-36            [-1, 128, 8, 8]             256\n",
      "        LeakyReLU-37            [-1, 128, 8, 8]               0\n",
      "           Conv2d-38            [-1, 128, 8, 8]         147,584\n",
      "  TransitionBlock-39            [-1, 128, 8, 8]               0\n",
      "      BatchNorm2d-40            [-1, 128, 8, 8]             256\n",
      "        LeakyReLU-41            [-1, 128, 8, 8]               0\n",
      "           Conv2d-42            [-1, 128, 8, 8]         147,584\n",
      "      BatchNorm2d-43            [-1, 128, 8, 8]             256\n",
      "        LeakyReLU-44            [-1, 128, 8, 8]               0\n",
      "           Conv2d-45            [-1, 128, 8, 8]         147,584\n",
      "       BasicBlock-46            [-1, 128, 8, 8]               0\n",
      "      BatchNorm2d-47            [-1, 128, 8, 8]             256\n",
      "        LeakyReLU-48            [-1, 128, 8, 8]               0\n",
      "           Conv2d-49            [-1, 128, 8, 8]         147,584\n",
      "      BatchNorm2d-50            [-1, 128, 8, 8]             256\n",
      "        LeakyReLU-51            [-1, 128, 8, 8]               0\n",
      "           Conv2d-52            [-1, 128, 8, 8]         147,584\n",
      "       BasicBlock-53            [-1, 128, 8, 8]               0\n",
      "      BatchNorm2d-54            [-1, 128, 8, 8]             256\n",
      "        LeakyReLU-55            [-1, 128, 8, 8]               0\n",
      "           Conv2d-56            [-1, 128, 8, 8]         147,584\n",
      "      BatchNorm2d-57            [-1, 128, 8, 8]             256\n",
      "        LeakyReLU-58            [-1, 128, 8, 8]               0\n",
      "           Conv2d-59            [-1, 128, 8, 8]         147,584\n",
      "       BasicBlock-60            [-1, 128, 8, 8]               0\n",
      "        ConvGroup-61            [-1, 128, 8, 8]               0\n",
      "      BatchNorm2d-62            [-1, 128, 8, 8]             256\n",
      "        LeakyReLU-63            [-1, 128, 8, 8]               0\n",
      "           Linear-64                   [-1, 10]           1,290\n",
      "================================================================\n",
      "Total params: 1,426,570\n",
      "Trainable params: 1,426,570\n",
      "Non-trainable params: 0\n",
      "----------------------------------------------------------------\n",
      "Input size (MB): 0.01\n",
      "Forward/backward pass size (MB): 5.81\n",
      "Params size (MB): 5.44\n",
      "Estimated Total Size (MB): 11.27\n",
      "----------------------------------------------------------------\n"
     ]
    }
   ],
   "source": [
    "from torchsummary import summary\n",
    "summary(model, (3,32,32))"
   ]
  },
  {
   "cell_type": "code",
   "execution_count": 13,
   "id": "99a2feb7",
   "metadata": {},
   "outputs": [
    {
     "ename": "SyntaxError",
     "evalue": "unexpected EOF while parsing (<ipython-input-13-85550bd6411d>, line 3)",
     "output_type": "error",
     "traceback": [
      "\u001b[0;36m  File \u001b[0;32m\"<ipython-input-13-85550bd6411d>\"\u001b[0;36m, line \u001b[0;32m3\u001b[0m\n\u001b[0;31m    \u001b[0m\n\u001b[0m    ^\u001b[0m\n\u001b[0;31mSyntaxError\u001b[0m\u001b[0;31m:\u001b[0m unexpected EOF while parsing\n"
     ]
    }
   ],
   "source": [
    "kernels = model.conv1.weight\n",
    "for i in range(kernels.shape[0]):\n",
    "    "
   ]
  },
  {
   "cell_type": "code",
   "execution_count": 57,
   "id": "76aed2ea",
   "metadata": {},
   "outputs": [
    {
     "name": "stderr",
     "output_type": "stream",
     "text": [
      "Clipping input data to the valid range for imshow with RGB data ([0..1] for floats or [0..255] for integers).\n"
     ]
    },
    {
     "data": {
      "text/plain": [
       "<matplotlib.image.AxesImage at 0x7f9382ff0850>"
      ]
     },
     "execution_count": 57,
     "metadata": {},
     "output_type": "execute_result"
    },
    {
     "data": {
      "image/png": "[encoded data removed]",
      "text/plain": [
       "<Figure size 432x288 with 1 Axes>"
      ]
     },
     "metadata": {
      "needs_background": "light"
     },
     "output_type": "display_data"
    }
   ],
   "source": [
    "kernels = model.conv1.weight.detach()\n",
    "plt.imshow(np.transpose(kernels[7], (1, 2, 0)))"
   ]
  },
  {
   "cell_type": "markdown",
   "id": "9d48b2a2",
   "metadata": {},
   "source": [
    "l= [module for module in model.modules()]\n",
    "l"
   ]
  },
  {
   "cell_type": "code",
   "execution_count": null,
   "id": "55192db5",
   "metadata": {},
   "outputs": [],
   "source": []
  }
 ],
 "metadata": {
  "kernelspec": {
   "display_name": "Python 3",
   "language": "python",
   "name": "python3"
  },
  "language_info": {
   "codemirror_mode": {
    "name": "ipython",
    "version": 3
   },
   "file_extension": ".py",
   "mimetype": "text/x-python",
   "name": "python",
   "nbconvert_exporter": "python",
   "pygments_lexer": "ipython3",
   "version": "3.7.10"
  }
 },
 "nbformat": 4,
 "nbformat_minor": 5
}
