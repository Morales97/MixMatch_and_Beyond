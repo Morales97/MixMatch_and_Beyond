{
 "cells": [
  {
   "cell_type": "markdown",
   "id": "de88476b",
   "metadata": {},
   "source": [
    "## Testing load data"
   ]
  },
  {
   "cell_type": "code",
   "execution_count": 1,
   "id": "bcb76985",
   "metadata": {},
   "outputs": [
    {
     "name": "stdout",
     "output_type": "stream",
     "text": [
      "/Users/dani/Google Drive/Uni/Master/P4 2021/DD2424 - Deep Learning for Data Science/Project/ScarceClassifier\n"
     ]
    }
   ],
   "source": [
    "import os\n",
    "import sys\n",
    "\n",
    "root_dir = os.path.dirname(os.getcwd())\n",
    "sys.path.append(root_dir)\n",
    "print(root_dir)\n",
    "\n",
    "from src.d02_data.load_data import load_subset, load, main"
   ]
  },
  {
   "cell_type": "markdown",
   "id": "8c6a8b1c",
   "metadata": {},
   "source": [
    "### Option 1: Using hardcoded PATH in load_data.py"
   ]
  },
  {
   "cell_type": "code",
   "execution_count": 2,
   "id": "77fb1b2b",
   "metadata": {},
   "outputs": [
    {
     "name": "stdout",
     "output_type": "stream",
     "text": [
      "Train size:\t 49000\n",
      "Val size:\t 4000\n",
      "Test size:\t 10000\n"
     ]
    }
   ],
   "source": [
    "main()"
   ]
  },
  {
   "cell_type": "markdown",
   "id": "14525c81",
   "metadata": {},
   "source": [
    "### Option 2: Providing path"
   ]
  },
  {
   "cell_type": "code",
   "execution_count": 3,
   "id": "3aac6e43",
   "metadata": {},
   "outputs": [
    {
     "data": {
      "text/plain": [
       "(array([[ 59,  43,  50, ..., 140,  84,  72],\n",
       "        [154, 126, 105, ..., 139, 142, 144],\n",
       "        [255, 253, 253, ...,  83,  83,  84],\n",
       "        ...,\n",
       "        [247, 244, 242, ...,  56,  89,  92],\n",
       "        [194, 195, 197, ..., 158, 131, 101],\n",
       "        [244, 241, 242, ..., 226, 228, 233]], dtype=uint8),\n",
       " array([[0., 0., 0., ..., 0., 0., 0.],\n",
       "        [0., 0., 0., ..., 0., 0., 1.],\n",
       "        [0., 0., 0., ..., 0., 0., 1.],\n",
       "        ...,\n",
       "        [0., 0., 0., ..., 0., 0., 0.],\n",
       "        [0., 0., 0., ..., 0., 0., 0.],\n",
       "        [0., 0., 0., ..., 0., 1., 0.]]),\n",
       " array([[ 59,  43,  50, ..., 140,  84,  72],\n",
       "        [154, 126, 105, ..., 139, 142, 144],\n",
       "        [255, 253, 253, ...,  83,  83,  84],\n",
       "        ...,\n",
       "        [ 71,  60,  74, ...,  68,  69,  68],\n",
       "        [250, 254, 211, ..., 215, 255, 254],\n",
       "        [ 62,  61,  60, ..., 130, 130, 131]], dtype=uint8),\n",
       " array([[0., 0., 0., ..., 0., 0., 0.],\n",
       "        [0., 0., 0., ..., 0., 0., 1.],\n",
       "        [0., 0., 0., ..., 0., 0., 1.],\n",
       "        ...,\n",
       "        [0., 1., 0., ..., 0., 0., 0.],\n",
       "        [0., 1., 0., ..., 0., 0., 0.],\n",
       "        [0., 0., 0., ..., 0., 0., 0.]]),\n",
       " array([[158, 159, 165, ..., 124, 129, 110],\n",
       "        [235, 231, 232, ..., 178, 191, 199],\n",
       "        [158, 158, 139, ...,   8,   3,   7],\n",
       "        ...,\n",
       "        [ 20,  19,  15, ...,  50,  53,  47],\n",
       "        [ 25,  15,  23, ...,  80,  81,  80],\n",
       "        [ 73,  98,  99, ...,  94,  58,  26]], dtype=uint8),\n",
       " array([[0., 0., 0., ..., 0., 0., 0.],\n",
       "        [0., 0., 0., ..., 0., 1., 0.],\n",
       "        [0., 0., 0., ..., 0., 1., 0.],\n",
       "        ...,\n",
       "        [0., 0., 0., ..., 0., 0., 0.],\n",
       "        [0., 1., 0., ..., 0., 0., 0.],\n",
       "        [0., 0., 0., ..., 1., 0., 0.]]))"
      ]
     },
     "execution_count": 3,
     "metadata": {},
     "output_type": "execute_result"
    }
   ],
   "source": [
    "path = os.path.join(root_dir, 'data', 'cifar-10-batches-py')\n",
    "\n",
    "load(train_size=10000, val_size=2000, path=path)"
   ]
  },
  {
   "cell_type": "code",
   "execution_count": null,
   "id": "baa1fe74",
   "metadata": {},
   "outputs": [],
   "source": []
  }
 ],
 "metadata": {
  "kernelspec": {
   "display_name": "Python 3",
   "language": "python",
   "name": "python3"
  },
  "language_info": {
   "codemirror_mode": {
    "name": "ipython",
    "version": 3
   },
   "file_extension": ".py",
   "mimetype": "text/x-python",
   "name": "python",
   "nbconvert_exporter": "python",
   "pygments_lexer": "ipython3",
   "version": "3.7.10"
  }
 },
 "nbformat": 4,
 "nbformat_minor": 5
}
